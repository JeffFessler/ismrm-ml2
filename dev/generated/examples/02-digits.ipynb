{
 "cells": [
  {
   "cell_type": "markdown",
   "source": [
    "# 02-digits\n",
    "\n",
    "## Basic Introduction to Machine Learning: 02-digits\n",
    "\n",
    "## Hand-written digit classification\n",
    "- 2018-10-23 Jeff Fessler, University of Michigan\n",
    "\n",
    "This page was generated from a single Julia file:\n",
    "[02-digits.jl](https://github.com/JeffFessler/ismrm_ml2/blob/main/docs/lit/examples/02-digits.jl)."
   ],
   "metadata": {}
  },
  {
   "cell_type": "markdown",
   "source": [
    "### Setup"
   ],
   "metadata": {}
  },
  {
   "cell_type": "markdown",
   "source": [
    "Packages needed here."
   ],
   "metadata": {}
  },
  {
   "outputs": [],
   "cell_type": "code",
   "source": [
    "using LinearAlgebra: norm, svd\n",
    "using StatsBase: mean\n",
    "using MLDatasets: MNIST\n",
    "using Random: seed!, randperm\n",
    "using LaTeXStrings # pretty plot labels\n",
    "using Plots: default, gui, plot, savefig, scatter, plot!, scatter!\n",
    "using MIRTjim: jim, prompt\n",
    "using InteractiveUtils: versioninfo\n",
    "default(markersize=5, markerstrokecolor=:auto, label=\"\")"
   ],
   "metadata": {},
   "execution_count": null
  },
  {
   "cell_type": "markdown",
   "source": [
    "The following line is helpful when running this file as a script;\n",
    "this way it will prompt user to hit a key after each figure is displayed."
   ],
   "metadata": {}
  },
  {
   "outputs": [],
   "cell_type": "code",
   "source": [
    "isinteractive() ? jim(:prompt, true) : prompt(:draw);"
   ],
   "metadata": {},
   "execution_count": null
  },
  {
   "cell_type": "markdown",
   "source": [
    "## Load data\n",
    "\n",
    "Read the MNIST data for some handwritten digits.\n",
    "This code will automatically download the data from web if needed\n",
    "and put it in a folder like: `~/.julia/datadeps/MNIST/`."
   ],
   "metadata": {}
  },
  {
   "outputs": [],
   "cell_type": "code",
   "source": [
    "if !@isdefined(data)\n",
    "    digitn = (4, 9) # which digits to use\n",
    "    isinteractive() || (ENV[\"DATADEPS_ALWAYS_ACCEPT\"] = true) # avoid prompt\n",
    "    dataset = MNIST(Float32, :train)\n",
    "    nrep = 1000\n",
    "    # function to extract the 1st 1000 examples of digit n:\n",
    "    data = n -> dataset.features[:,:,findall(==(n), dataset.targets)[1:nrep]]\n",
    "    data = 255 * cat(dims=4, data.(digitn)...)\n",
    "    nx, ny, nrep, ndigit = size(data)\n",
    "    data = data[:,2:ny,:,:] # make images non-square to force debug\n",
    "    ny = size(data,2)\n",
    "    d0 = data[:,:,:,1]\n",
    "    d1 = data[:,:,:,2]\n",
    "    size(data)\n",
    "end"
   ],
   "metadata": {},
   "execution_count": null
  },
  {
   "cell_type": "markdown",
   "source": [
    "Look at sorted and unsorted images to show (un)supervised"
   ],
   "metadata": {}
  },
  {
   "outputs": [],
   "cell_type": "code",
   "source": [
    "seed!(0)\n",
    "nrow = 4\n",
    "ncol = 6\n",
    "t0 = d0[:,:,1:nrow*ncol÷2]\n",
    "t0[:,:,6] = d0[:,:,222] # include one ambiguous case\n",
    "t1 = d1[:,:,1:nrow*ncol÷2]\n",
    "tmp = cat(t0, t1, dims=3)\n",
    "jim(tmp)\n",
    "# savefig(\"02-digit-sort.pdf\")"
   ],
   "metadata": {},
   "execution_count": null
  },
  {
   "outputs": [],
   "cell_type": "code",
   "source": [
    "tmp = tmp[:,:,randperm(size(tmp,3))] # for unsupervised\n",
    "pu = jim(tmp; xticks=false, yticks=false, colorbar=:none); # book\n",
    "# savefig(\"02-digit-rand.pdf\")\n",
    "# savefig(pu, \"data-4-9.pdf\")"
   ],
   "metadata": {},
   "execution_count": null
  },
  {
   "cell_type": "markdown",
   "source": [
    "Use some data for training, and some for test"
   ],
   "metadata": {}
  },
  {
   "outputs": [],
   "cell_type": "code",
   "source": [
    "ntrain = 100\n",
    "ntest = nrep - ntrain\n",
    "train0 = d0[:,:,1:ntrain] # training data\n",
    "train1 = d1[:,:,1:ntrain]\n",
    "test0 = d0[:,:,(ntrain+1):end] # testing data\n",
    "test1 = d1[:,:,(ntrain+1):end];"
   ],
   "metadata": {},
   "execution_count": null
  },
  {
   "cell_type": "markdown",
   "source": [
    "SVD for singular vectors and low-rank subspace approximation"
   ],
   "metadata": {}
  },
  {
   "outputs": [],
   "cell_type": "code",
   "source": [
    "u0 = svd(reshape(train0, nx*ny, :)).U\n",
    "u1 = svd(reshape(train1, nx*ny, :)).U\n",
    "r0 = 3 # selected ranks\n",
    "r1 = 3\n",
    "q0 = reshape(u0[:,1:r0], nx, ny, :)\n",
    "q1 = reshape(u1[:,1:r1], nx, ny, :)\n",
    "p0 = jim(q0; nrow = 1)\n",
    "p1 = jim(q1; nrow = 1)\n",
    "p01 = plot(p0, p1, layout=(2,1))"
   ],
   "metadata": {},
   "execution_count": null
  },
  {
   "outputs": [],
   "cell_type": "code",
   "source": [
    "prompt()"
   ],
   "metadata": {},
   "execution_count": null
  },
  {
   "cell_type": "markdown",
   "source": [
    "## How well do the first left singular vectors separate the two classes?"
   ],
   "metadata": {}
  },
  {
   "outputs": [],
   "cell_type": "code",
   "source": [
    "regress = (data, u) -> vec(mapslices(slice -> u'*slice[:], data, dims=(1,2)))\n",
    "l1 = \"$(digitn[1])\"\n",
    "l2 = \"$(digitn[2])\"\n",
    "plot(xlabel = l1 * \" U[:,1]\", ylabel = l2 * \" U[:,1]\", legend=:topleft)\n",
    "scatter!(regress(train0, u0[:,1]), regress(train0, u1[:,1]), label=l1)\n",
    "scatter!(regress(train1, u0[:,1]), regress(train1, u1[:,1]), label=l2)"
   ],
   "metadata": {},
   "execution_count": null
  },
  {
   "outputs": [],
   "cell_type": "code",
   "source": [
    "prompt()"
   ],
   "metadata": {},
   "execution_count": null
  },
  {
   "cell_type": "markdown",
   "source": [
    "## Classify test digits based on nearest subspace"
   ],
   "metadata": {}
  },
  {
   "outputs": [],
   "cell_type": "code",
   "source": [
    "Q0 = reshape(q0, nx*ny, r0)\n",
    "Q1 = reshape(q1, nx*ny, r1);\n",
    "\n",
    "y0 = reshape(test0, nx*ny, :)\n",
    "y00 = y0 - Q0 * (Q0' * y0)\n",
    "y01 = y0 - Q1 * (Q1' * y0)\n",
    "correct0 = (mapslices(norm, y00, dims=1) .< mapslices(norm, y01, dims=1))\n",
    "c0 = count(correct0) / ntest"
   ],
   "metadata": {},
   "execution_count": null
  },
  {
   "outputs": [],
   "cell_type": "code",
   "source": [
    "y1 = reshape(test1, nx*ny, :)\n",
    "y10 = y1 - Q0 * (Q0' * y1)\n",
    "y11 = y1 - Q1 * (Q1' * y1)\n",
    "correct1 = (mapslices(norm, y10, dims=1) .> mapslices(norm, y11, dims=1))\n",
    "c1 = count(correct1) / ntest"
   ],
   "metadata": {},
   "execution_count": null
  },
  {
   "cell_type": "markdown",
   "source": [
    "### If I had more time I would show CNN-based classification here..."
   ],
   "metadata": {}
  },
  {
   "cell_type": "markdown",
   "source": [
    "### Reproducibility"
   ],
   "metadata": {}
  },
  {
   "cell_type": "markdown",
   "source": [
    "This page was generated with the following version of Julia:"
   ],
   "metadata": {}
  },
  {
   "outputs": [],
   "cell_type": "code",
   "source": [
    "io = IOBuffer(); versioninfo(io); split(String(take!(io)), '\\n')"
   ],
   "metadata": {},
   "execution_count": null
  },
  {
   "cell_type": "markdown",
   "source": [
    "And with the following package versions"
   ],
   "metadata": {}
  },
  {
   "outputs": [],
   "cell_type": "code",
   "source": [
    "import Pkg; Pkg.status()"
   ],
   "metadata": {},
   "execution_count": null
  },
  {
   "cell_type": "markdown",
   "source": [
    "---\n",
    "\n",
    "*This notebook was generated using [Literate.jl](https://github.com/fredrikekre/Literate.jl).*"
   ],
   "metadata": {}
  }
 ],
 "nbformat_minor": 3,
 "metadata": {
  "language_info": {
   "file_extension": ".jl",
   "mimetype": "application/julia",
   "name": "julia",
   "version": "1.10.0"
  },
  "kernelspec": {
   "name": "julia-1.10",
   "display_name": "Julia 1.10.0",
   "language": "julia"
  }
 },
 "nbformat": 4
}
