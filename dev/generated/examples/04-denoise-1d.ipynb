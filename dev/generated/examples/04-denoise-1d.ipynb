{
 "cells": [
  {
   "cell_type": "markdown",
   "source": [
    "# 04-denoise-1d\n",
    "\n",
    "## Basic Introduction to Machine Learning: 04-denoise-1d\n",
    "\n",
    "Illustrate 1D signal denoising using Julia's Flux library\n",
    "\n",
    "- Jeff Fessler, University of Michigan\n",
    "- 2018-10-23 Julia 1.0.1 version\n",
    "- 2023-01-29 Julia 1.8.5 version\n",
    "\n",
    "This page was generated from a single Julia file:\n",
    "[04-denoise-1d.jl](https://github.com/JeffFessler/ismrm_ml2/blob/main/docs/lit/examples/04-denoise-1d.jl)."
   ],
   "metadata": {}
  },
  {
   "cell_type": "markdown",
   "source": [
    "### Setup"
   ],
   "metadata": {}
  },
  {
   "cell_type": "markdown",
   "source": [
    "Packages needed here."
   ],
   "metadata": {}
  },
  {
   "outputs": [],
   "cell_type": "code",
   "source": [
    "using LinearAlgebra: norm, I\n",
    "using Random: seed!\n",
    "using Distributions: Normal, randperm\n",
    "import Flux # Julia package for deep learning\n",
    "using Flux: Dense, Conv, Chain, SkipConnection, Adam, mse, relu, SamePad\n",
    "using LaTeXStrings # pretty plot labels\n",
    "using Plots: plot, plot!, scatter, scatter!, histogram, histogram2d, default, font, gui\n",
    "using MIRTjim: jim, prompt\n",
    "using InteractiveUtils: versioninfo\n",
    "\n",
    "default(markersize=5, markerstrokecolor=:auto, label=\"\")\n",
    "default(tickfontsize=10, legendfontsize=11)"
   ],
   "metadata": {},
   "execution_count": null
  },
  {
   "cell_type": "markdown",
   "source": [
    "The following line is helpful when running this file as a script;\n",
    "this way it will prompt user to hit a key after each figure is displayed."
   ],
   "metadata": {}
  },
  {
   "outputs": [],
   "cell_type": "code",
   "source": [
    "isinteractive() ? jim(:prompt, true) : prompt(:draw);"
   ],
   "metadata": {},
   "execution_count": null
  },
  {
   "cell_type": "markdown",
   "source": [
    "## Training data\n",
    "Generate training and testing data; 1D piece-wise constant signals"
   ],
   "metadata": {}
  },
  {
   "cell_type": "markdown",
   "source": [
    "Function to generate a random piece-wise constant signal"
   ],
   "metadata": {}
  },
  {
   "outputs": [],
   "cell_type": "code",
   "source": [
    "function makestep(; dim=32, njump=3, valueDist=Normal(0, 1), minsep=2)\n",
    "    jump_locations = randperm(dim)[1:njump]\n",
    "    while minimum(diff(jump_locations)) <= minsep\n",
    "        jump_locations = randperm(dim)[1:njump] # random jump locations\n",
    "    end\n",
    "    index = zeros(dim)\n",
    "    index[jump_locations] .= 1\n",
    "    index = cumsum(index)\n",
    "    values = rand(valueDist, njump) # random signal values\n",
    "    x = zeros(Float32, dim)\n",
    "    for jj in 1:njump\n",
    "        x[index .== jj] .= values[jj]\n",
    "    end\n",
    "    x[index .== 0] .= values[njump] # periodic end conditions\n",
    "    x = circshift(x, rand(1:dim, 1)) # random shift - just to be sure\n",
    "    return x\n",
    "end"
   ],
   "metadata": {},
   "execution_count": null
  },
  {
   "cell_type": "markdown",
   "source": [
    "Training data"
   ],
   "metadata": {}
  },
  {
   "outputs": [],
   "cell_type": "code",
   "source": [
    "seed!(0)\n",
    "siz = 32\n",
    "\n",
    "ntrain = 2^11\n",
    "Xtrain = [makestep(dim=siz) for _ in 1:ntrain] # noiseless data\n",
    "Xtrain = hcat(Xtrain...) # (siz, ntrain)\n",
    "\n",
    "ntest = 2^10\n",
    "Xtest = [makestep(dim=siz) for _ in 1:ntest] # noiseless data\n",
    "Xtest = hcat(Xtest...) # (siz, ntest)\n",
    "\n",
    "p0 = plot(Xtrain[:,1:14], label=\"\")"
   ],
   "metadata": {},
   "execution_count": null
  },
  {
   "outputs": [],
   "cell_type": "code",
   "source": [
    "prompt()"
   ],
   "metadata": {},
   "execution_count": null
  },
  {
   "cell_type": "markdown",
   "source": [
    "Data covariance"
   ],
   "metadata": {}
  },
  {
   "outputs": [],
   "cell_type": "code",
   "source": [
    "Kx = Xtrain * Xtrain' / ntrain\n",
    "p1 = jim(Kx, title=\"Kx\", color=:cividis);"
   ],
   "metadata": {},
   "execution_count": null
  },
  {
   "cell_type": "markdown",
   "source": [
    "Add noise"
   ],
   "metadata": {}
  },
  {
   "outputs": [],
   "cell_type": "code",
   "source": [
    "σnoise = 0.3\n",
    "Ytrain = Xtrain + σnoise * randn(Float32, size(Xtrain)) # noisy train data\n",
    "Ytest = Xtest + σnoise * randn(Float32, size(Xtest)) # noisy test data\n",
    "Ky = Ytrain * Ytrain' / ntrain;\n",
    "\n",
    "@show maximum(Kx)\n",
    "@show maximum(Ky)\n",
    "\n",
    "p2 = jim(Ky, title=\"Ky\", color=:cividis)\n",
    "plot(p0, p1, p2, layout=(3,1))"
   ],
   "metadata": {},
   "execution_count": null
  },
  {
   "outputs": [],
   "cell_type": "code",
   "source": [
    "prompt()"
   ],
   "metadata": {},
   "execution_count": null
  },
  {
   "cell_type": "markdown",
   "source": [
    "Wiener filter (MMSE estimator)"
   ],
   "metadata": {}
  },
  {
   "outputs": [],
   "cell_type": "code",
   "source": [
    "# cond(Kx + σnoise*I)\n",
    "Hw = Kx * inv(Kx + σnoise^2 * I)\n",
    "jim(Hw; title=\"Wiener filter\", color=:cividis)"
   ],
   "metadata": {},
   "execution_count": null
  },
  {
   "cell_type": "markdown",
   "source": [
    "Denoise via Wiener filter (MMSE *linear* method)"
   ],
   "metadata": {}
  },
  {
   "outputs": [],
   "cell_type": "code",
   "source": [
    "Xw = Hw * Ytest\n",
    "nrmse = (Xh) -> round(norm(Xh - Xtest) / norm(Xtest) * 100, digits=2)\n",
    "@show nrmse(Ytest), nrmse(Xw)\n",
    "colors = [:blue, :red, :magenta, :green]\n",
    "plot(ylabel=\"signal value\", title=\"Wiener filtering examples\")\n",
    "for i in 1:4\n",
    "    plot!(Xw[:,i], color=colors[i])\n",
    "    plot!(Xtest[:,i], color=colors[i], line=:dash)\n",
    "    scatter!(Ytest[:,i], color=colors[i], marker=:star)\n",
    "end"
   ],
   "metadata": {},
   "execution_count": null
  },
  {
   "outputs": [],
   "cell_type": "code",
   "source": [
    "prompt()"
   ],
   "metadata": {},
   "execution_count": null
  },
  {
   "cell_type": "markdown",
   "source": [
    "Verify that marginal distribution is Gaussian"
   ],
   "metadata": {}
  },
  {
   "outputs": [],
   "cell_type": "code",
   "source": [
    "histogram(Xtrain[:], label = \"Xtrain hist\")"
   ],
   "metadata": {},
   "execution_count": null
  },
  {
   "outputs": [],
   "cell_type": "code",
   "source": [
    "prompt()"
   ],
   "metadata": {},
   "execution_count": null
  },
  {
   "cell_type": "markdown",
   "source": [
    "## Simple NN\n",
    "\n",
    "Examine a \"NN\" that is a single fully connected affine layer\n",
    "(It should perform same as Wiener filter.)\n",
    "\n",
    "First try a basic affine NN model"
   ],
   "metadata": {}
  },
  {
   "outputs": [],
   "cell_type": "code",
   "source": [
    "if !@isdefined(state1)\n",
    "    model1 = Chain(Dense(siz,siz))\n",
    "    loss3(model, x, y) = mse(model(x), y)\n",
    "\n",
    "    iters = 2^12\n",
    "    dataset = Base.Iterators.repeated((Ytrain, Xtrain), iters) # trick X,Y swap for denoising!\n",
    "\n",
    "    state1 = Flux.setup(Adam(), model1)\n",
    "    Flux.train!(loss3, model1, dataset, state1)\n",
    "end;"
   ],
   "metadata": {},
   "execution_count": null
  },
  {
   "cell_type": "markdown",
   "source": [
    "Compare training affine NN to wiener filter"
   ],
   "metadata": {}
  },
  {
   "outputs": [],
   "cell_type": "code",
   "source": [
    "H1 = model1(Matrix(I, siz, siz))\n",
    "jim(H1; title=\"Learned filter for affine NN\", colormap=:cividis)"
   ],
   "metadata": {},
   "execution_count": null
  },
  {
   "cell_type": "markdown",
   "source": [
    "Denoise test Data"
   ],
   "metadata": {}
  },
  {
   "outputs": [],
   "cell_type": "code",
   "source": [
    "X1 = H1 * Ytest\n",
    "X1nn = model1(Ytest)\n",
    "@show nrmse(Ytest), nrmse(Xw), nrmse(X1), nrmse(X1nn)\n",
    "bias = model1(zeros(siz))\n",
    "@show extrema(bias)"
   ],
   "metadata": {},
   "execution_count": null
  },
  {
   "cell_type": "markdown",
   "source": [
    "## Examine a single hidden layer NN\n",
    "\n",
    "# Create a basic NN model"
   ],
   "metadata": {}
  },
  {
   "outputs": [],
   "cell_type": "code",
   "source": [
    "if !@isdefined(state2)\n",
    "    nhidden = 2siz # neurons in hidden layer\n",
    "    model2 = Chain(Dense(siz, nhidden, relu), Dense(nhidden, siz))\n",
    "\n",
    "    iters = 2^12\n",
    "    dataset = Base.Iterators.repeated((Ytrain, Xtrain), iters) # trick X,Y swap for denoising!\n",
    "\n",
    "    state2 = Flux.setup(Adam(), model2)\n",
    "    Flux.train!(loss3, model2, dataset, state2)\n",
    "    X2 = model2(Ytest)\n",
    "end\n",
    "tmp = [Ytest, Xw, X1, X1nn, X2]\n",
    "@show nrmse.(tmp)"
   ],
   "metadata": {},
   "execution_count": null
  },
  {
   "cell_type": "markdown",
   "source": [
    "Examine joint distribution"
   ],
   "metadata": {}
  },
  {
   "outputs": [],
   "cell_type": "code",
   "source": [
    "lag = 1\n",
    "tmp = circshift(Xtrain, (lag,))\n",
    "histogram2d(vec(Xtrain), vec(tmp))\n",
    "plot!(aspect_ratio=1, xlim=[-4,4], ylim=[-4,4])\n",
    "plot!(xlabel=L\"x[n]\", ylabel=latexstring(\"x[n-$lag \\\\ mod \\\\ N]\"))\n",
    "plot!(title=\"Joint histogram of neighbors\")"
   ],
   "metadata": {},
   "execution_count": null
  },
  {
   "outputs": [],
   "cell_type": "code",
   "source": [
    "prompt()"
   ],
   "metadata": {},
   "execution_count": null
  },
  {
   "cell_type": "markdown",
   "source": [
    "## WIP\n",
    "Experiments below here - work in progress\n",
    "[https://github.com/FluxML/model-zoo/blob/master/vision/mnist/conv.jl]"
   ],
   "metadata": {}
  },
  {
   "outputs": [],
   "cell_type": "code",
   "source": [
    "if !@isdefined(model3)\n",
    "\n",
    "    model3 = SkipConnection( # ResNet style: learn residual\n",
    "        Chain(\n",
    "            Conv((3,), 1 => 16, relu; pad = SamePad()),\n",
    "        #  x -> maxpool(x, (2,2)),\n",
    "            Conv((3,), 16 => 8, relu; pad = SamePad()),\n",
    "            Conv((1,), 8 => 1, relu),\n",
    "        #  x -> reshape(x, :, size(x, 4)),\n",
    "        ),\n",
    "        +,\n",
    "    )\n",
    "\n",
    "    shaper(X) = reshape(X, siz, 1, :) # (siz, channels, batch)\n",
    "    mymodel3(X) = model3(shaper(X))[:, 1, :]\n",
    "    @assert size(mymodel3(Xtrain)) == size(Xtrain)\n",
    "\n",
    "    nouter = 2^2\n",
    "    ninner = 2^3\n",
    "    # trick X,Y swap for denoising!\n",
    "    dataset = Base.Iterators.repeated((shaper(Ytrain), shaper(Xtrain)), ninner)\n",
    "    for io in 1:nouter\n",
    "        state3 = Flux.setup(Adam(), model3)\n",
    "        Flux.train!(loss3, model3, dataset, state3)\n",
    "        X3train = mymodel3(Ytrain)\n",
    "        @show io, loss3(model3, shaper(Xtrain), shaper(Ytrain))\n",
    "        # todo: validation data too\n",
    "    end\n",
    "end\n",
    "\n",
    "\n",
    "X3test = mymodel3(Ytest)\n",
    "tmp = [Ytest, Xw, X1, X1nn, X2, X3test]\n",
    "@show nrmse.(tmp) # todo: no improvement!?"
   ],
   "metadata": {},
   "execution_count": null
  },
  {
   "cell_type": "markdown",
   "source": [
    "### Reproducibility"
   ],
   "metadata": {}
  },
  {
   "cell_type": "markdown",
   "source": [
    "This page was generated with the following version of Julia:"
   ],
   "metadata": {}
  },
  {
   "outputs": [],
   "cell_type": "code",
   "source": [
    "io = IOBuffer(); versioninfo(io); split(String(take!(io)), '\\n')"
   ],
   "metadata": {},
   "execution_count": null
  },
  {
   "cell_type": "markdown",
   "source": [
    "And with the following package versions"
   ],
   "metadata": {}
  },
  {
   "outputs": [],
   "cell_type": "code",
   "source": [
    "import Pkg; Pkg.status()"
   ],
   "metadata": {},
   "execution_count": null
  },
  {
   "cell_type": "markdown",
   "source": [
    "---\n",
    "\n",
    "*This notebook was generated using [Literate.jl](https://github.com/fredrikekre/Literate.jl).*"
   ],
   "metadata": {}
  }
 ],
 "nbformat_minor": 3,
 "metadata": {
  "language_info": {
   "file_extension": ".jl",
   "mimetype": "application/julia",
   "name": "julia",
   "version": "1.10.0"
  },
  "kernelspec": {
   "name": "julia-1.10",
   "display_name": "Julia 1.10.0",
   "language": "julia"
  }
 },
 "nbformat": 4
}
