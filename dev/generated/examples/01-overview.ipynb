{
 "cells": [
  {
   "cell_type": "markdown",
   "source": [
    "# 01-overview\n",
    "\n",
    "## Basic Introduction to Machine Learning: 01-overview\n",
    "\n",
    "This page was generated from a single Julia file:\n",
    "[01-overview.jl](https://github.com/JeffFessler/ismrm_ml2/blob/main/docs/lit/examples/01-overview.jl)."
   ],
   "metadata": {}
  },
  {
   "cell_type": "markdown",
   "source": [
    "### Setup"
   ],
   "metadata": {}
  },
  {
   "cell_type": "markdown",
   "source": [
    "Packages needed here."
   ],
   "metadata": {}
  },
  {
   "outputs": [],
   "cell_type": "code",
   "source": [
    "using LinearAlgebra: norm\n",
    "using Random: seed!\n",
    "using LaTeXStrings # pretty plot labels\n",
    "using Plots: plot, plot!, scatter, scatter!, surface!, default, font, gui\n",
    "using MIRTjim: jim, prompt\n",
    "using InteractiveUtils: versioninfo\n",
    "\n",
    "default(markersize=5, markerstrokecolor=:auto, label=\"\")\n",
    "fnt = font(\"DejaVu Sans\", 15) # larger default font\n",
    "default(guidefont=fnt, xtickfont=fnt, ytickfont=fnt, legendfont=fnt)\n",
    "default(tickfontsize=10, legendfontsize=11)"
   ],
   "metadata": {},
   "execution_count": null
  },
  {
   "cell_type": "markdown",
   "source": [
    "The following line is helpful when running this file as a script;\n",
    "this way it will prompt user to hit a key after each figure is displayed."
   ],
   "metadata": {}
  },
  {
   "outputs": [],
   "cell_type": "code",
   "source": [
    "isinteractive() ? jim(:prompt, true) : prompt(:draw);"
   ],
   "metadata": {},
   "execution_count": null
  },
  {
   "cell_type": "markdown",
   "source": [
    "## Supervised learning: classification"
   ],
   "metadata": {}
  },
  {
   "outputs": [],
   "cell_type": "code",
   "source": [
    "seed!(0)\n",
    "n1 = 50; n2 = n1\n",
    "rot = phi -> [cos(phi) sin(-phi); sin(phi) cos(phi)]\n",
    "data1 = rot(π/8) * ([3 0; 0 1] * randn(2,n1) .+ [8;2])\n",
    "data2 = rot(π/4) * ([2 0; 0 1] * randn(2,n2) .+ [9;3])\n",
    "scatter(data1[1,:], data1[2,:], color=:blue, label=\"class1\")\n",
    "scatter!(data2[1,:], data2[2,:], color=:red, label=\"class2\")\n",
    "plot!(xlabel=L\"x_1\", ylabel=L\"x_2\")\n",
    "plot!(xlim=(0,14), ylim=(0,14))\n",
    "plot!(aspect_ratio=1, xtick=[0, 14], ytick=[0, 14])\n",
    "x = LinRange(0,14,101)\n",
    "y = 2 .+ x - 0.03 * x.^2 # add decision boundary\n",
    "plot!(x, y, color=:magenta)"
   ],
   "metadata": {},
   "execution_count": null
  },
  {
   "outputs": [],
   "cell_type": "code",
   "source": [
    "prompt()"
   ],
   "metadata": {},
   "execution_count": null
  },
  {
   "cell_type": "markdown",
   "source": [
    "## Supervised learning: regression"
   ],
   "metadata": {}
  },
  {
   "outputs": [],
   "cell_type": "code",
   "source": [
    "seed!(0)\n",
    "N = 40\n",
    "f = (x) -> 10. / (x + 1)\n",
    "xt = 10 * rand(N)\n",
    "yt = f.(xt) + 0.4 * randn(N)\n",
    "x = range(0, 10, 101)\n",
    "y = f.(x)\n",
    "scatter(xt, yt, color=:blue, label=\"training data\")\n",
    "plot!(xlabel=L\"x\", ylabel=L\"y\")\n",
    "plot!(xlim=(0,10), ylim=(0,8))\n",
    "plot!(xtick=0:5:10, ytick=0:4:8)"
   ],
   "metadata": {},
   "execution_count": null
  },
  {
   "cell_type": "markdown",
   "source": [
    "Polynomial regression model"
   ],
   "metadata": {}
  },
  {
   "outputs": [],
   "cell_type": "code",
   "source": [
    "Afun = (tt) -> [t.^i for t in tt, i in 0:3] # matrix of monomials\n",
    "A = Afun(xt)\n",
    "coef = A \\ yt\n",
    "y = Afun(x) * coef\n",
    "plot!(x, y, line=:magenta, label=\"cubic regression\")"
   ],
   "metadata": {},
   "execution_count": null
  },
  {
   "outputs": [],
   "cell_type": "code",
   "source": [
    "prompt()"
   ],
   "metadata": {},
   "execution_count": null
  },
  {
   "cell_type": "markdown",
   "source": [
    "## Unsupervised learning: data"
   ],
   "metadata": {}
  },
  {
   "outputs": [],
   "cell_type": "code",
   "source": [
    "seed!(0)\n",
    "n1 = 50; n2 = n1; n3=n1\n",
    "rot = phi -> [cos(phi) sin(-phi); sin(phi) cos(phi)]\n",
    "data1 = rot(π/4) * ([2 0; 0 0.7] * randn(2,n1) .+ [9;3])\n",
    "data2 = rot(π/8) * ([3 0; 0 0.6] * randn(2,n2) .+ [8;2])\n",
    "data3 = rot( 0 ) * ([2 0; 0 0.5] * randn(2,n3) .+ [9;1]);\n",
    "\n",
    "plot(xlabel = L\"x_1\", ylabel = L\"x_2\")\n",
    "scatter!(data1[1,:], data1[2,:], color=:black, label=\"training data\")\n",
    "scatter!(data2[1,:], data2[2,:], color=:black)\n",
    "scatter!(data3[1,:], data3[2,:], color=:black)\n",
    "plot!(xlim=(0,14), ylim=(0,14))\n",
    "plot!(aspect_ratio=1, xtick=[0, 14], ytick=[0, 14])"
   ],
   "metadata": {},
   "execution_count": null
  },
  {
   "outputs": [],
   "cell_type": "code",
   "source": [
    "prompt()"
   ],
   "metadata": {},
   "execution_count": null
  },
  {
   "cell_type": "markdown",
   "source": [
    "## Clustering (oracle)"
   ],
   "metadata": {}
  },
  {
   "outputs": [],
   "cell_type": "code",
   "source": [
    "plot(xlabel = L\"x_1\", ylabel = L\"x_2\")\n",
    "scatter!(data1[1,:], data1[2,:], color=:blue, label=\"cluster1\")\n",
    "scatter!(data2[1,:], data2[2,:], color=:red, label=\"cluster2\")\n",
    "scatter!(data3[1,:], data3[2,:], color=:orange, label=\"cluster3\")\n",
    "plot!(xlim=(0,14), ylim=(0,14))\n",
    "plot!(aspect_ratio=1, xtick=[0, 14], ytick=[0, 14])"
   ],
   "metadata": {},
   "execution_count": null
  },
  {
   "outputs": [],
   "cell_type": "code",
   "source": [
    "prompt()"
   ],
   "metadata": {},
   "execution_count": null
  },
  {
   "cell_type": "markdown",
   "source": [
    "## Novelty detection"
   ],
   "metadata": {}
  },
  {
   "outputs": [],
   "cell_type": "code",
   "source": [
    "plot(xlabel=L\"x_1\", ylabel=L\"x_2\")\n",
    "scatter!(data1[1,:], data1[2,:], color=:black)\n",
    "scatter!(data2[1,:], data2[2,:], color=:black)\n",
    "scatter!(data3[1,:], data3[2,:], color=:black)\n",
    "scatter!([10], [11], color=:red)\n",
    "plot!(xlim=(0,14), ylim=(0,14))\n",
    "plot!(aspect_ratio=1, xtick=[0, 14], ytick=[0, 14])"
   ],
   "metadata": {},
   "execution_count": null
  },
  {
   "outputs": [],
   "cell_type": "code",
   "source": [
    "prompt()"
   ],
   "metadata": {},
   "execution_count": null
  },
  {
   "cell_type": "markdown",
   "source": [
    "### The utility of nonlinearity"
   ],
   "metadata": {}
  },
  {
   "cell_type": "markdown",
   "source": [
    "1D plot supervised learning: classification"
   ],
   "metadata": {}
  },
  {
   "outputs": [],
   "cell_type": "code",
   "source": [
    "seed!(0)\n",
    "n1 = 20; n2 = n1; n3 = n1\n",
    "data1 = 1 * randn(2,n1) .+ 5\n",
    "data2 = 1 * randn(2,n2) .+ 0\n",
    "data3 = 1 * randn(2,n3) .+ (-5)\n",
    "plot(xlabel=L\"x_1\", ylabel=\"\")\n",
    "scatter!(data1[1,:], zeros(n1), color=:blue, label=\"class1\")\n",
    "scatter!(data2[1,:], zeros(n2), color=:red, label=\"class2\")\n",
    "scatter!(data3[1,:], zeros(n3), color=:blue)\n",
    "plot!(xlim=(-8,7), ylim=(-1,1))\n",
    "plot!(xtick=-6:3:6, ytick=[])\n",
    "plot!([1, 1]*2, [-1, 1], color=:orange)"
   ],
   "metadata": {},
   "execution_count": null
  },
  {
   "outputs": [],
   "cell_type": "code",
   "source": [
    "prompt()"
   ],
   "metadata": {},
   "execution_count": null
  },
  {
   "cell_type": "markdown",
   "source": [
    "A simple nonlinearity, abs(feature), allows linear separation"
   ],
   "metadata": {}
  },
  {
   "outputs": [],
   "cell_type": "code",
   "source": [
    "f = x -> abs(x)\n",
    "data1[2,:] = f.(data1[1,:])\n",
    "data2[2,:] = f.(data2[1,:])\n",
    "data3[2,:] = f.(data3[1,:])\n",
    "plot(xlabel=L\"x_1\", ylabel=L\"x_2\")\n",
    "scatter!(data1[1,:], data1[2,:], color=:blue, label=\"class1\")\n",
    "scatter!(data2[1,:], data2[2,:], color=:red, label=\"class2\")\n",
    "scatter!(data3[1,:], data3[2,:], color=:blue)\n",
    "plot!(xlim=(-8,7), ylim=(-1,10))\n",
    "plot!(xtick=-6:3:6, ytick=0:5:10)\n",
    "plot!([-1, 1]*8, [1, 1]*2.4, color=:orange, width=2, legend=:top)"
   ],
   "metadata": {},
   "execution_count": null
  },
  {
   "outputs": [],
   "cell_type": "code",
   "source": [
    "prompt()"
   ],
   "metadata": {},
   "execution_count": null
  },
  {
   "cell_type": "markdown",
   "source": [
    "## 2D example"
   ],
   "metadata": {}
  },
  {
   "outputs": [],
   "cell_type": "code",
   "source": [
    "seed!(0)\n",
    "n1 = 40; n2 = 120\n",
    "data1 = randn(2,n1)\n",
    "rad2 = 3 .+ 3*rand(1,n2)\n",
    "ang2 = rand(1,n2) * 2π\n",
    "data2 = [rad2 .* cos.(ang2); rad2 .* sin.(ang2)]\n",
    "plot(xlabel=L\"x_1\", ylabel=L\"x_2\")\n",
    "scatter!(data1[1,:], data1[2,:], color=:blue, label=\"class1\")\n",
    "scatter!(data2[1,:], data2[2,:], color=:red, label=\"class2\")\n",
    "plot!(xlim=[-1,1]*6, ylim=[-1,1]*6)\n",
    "plot!(aspect_ratio=1, xtick=-6:6:6, ytick=-6:6:6)"
   ],
   "metadata": {},
   "execution_count": null
  },
  {
   "outputs": [],
   "cell_type": "code",
   "source": [
    "prompt()\n",
    "\n",
    "plot!([0, 1, 0, -1, 0]*3, [-1, 0, 1, 0, -1]*3, color=:orange, width=2)"
   ],
   "metadata": {},
   "execution_count": null
  },
  {
   "outputs": [],
   "cell_type": "code",
   "source": [
    "prompt()"
   ],
   "metadata": {},
   "execution_count": null
  },
  {
   "cell_type": "markdown",
   "source": [
    "## Nonlinear lifting into 3D"
   ],
   "metadata": {}
  },
  {
   "outputs": [],
   "cell_type": "code",
   "source": [
    "lift_fun = (x) -> sum(abs.(x), dims=1)\n",
    "lift1 = [data1; lift_fun(data1)]\n",
    "lift2 = [data2; lift_fun(data2)]\n",
    "plot(xlabel=L\"x_1\", ylabel=L\"x_2\", zlabel=L\"$x_3 = |x_1| + |x_2|$\")\n",
    "scatter!(lift1[1,:], lift1[2,:], lift1[3,:], color=:blue, label=\"class1\")\n",
    "scatter!(lift2[1,:], lift2[2,:], lift2[3,:], color=:red, label=\"class2\")\n",
    "plot!(xlim=[-1,1]*6, ylim=[-1,1]*6)\n",
    "plot!(xtick=-6:6:6, ytick=-6:6:6)\n",
    "plot!(camera=(30,12))\n",
    "#savefig(\"ml-nonlin2d-lift.pdf\")"
   ],
   "metadata": {},
   "execution_count": null
  },
  {
   "outputs": [],
   "cell_type": "code",
   "source": [
    "prompt()\n",
    "\n",
    "\n",
    "xc = -6:6\n",
    "yc = -6:6\n",
    "z = 3 * ones(length(xc), length(yc)) # 3 chosen manually\n",
    "surface!(xc, yc, z, colorbar=nothing, alpha=0.6) #, color=:orange)"
   ],
   "metadata": {},
   "execution_count": null
  },
  {
   "outputs": [],
   "cell_type": "code",
   "source": [
    "prompt()"
   ],
   "metadata": {},
   "execution_count": null
  },
  {
   "cell_type": "markdown",
   "source": [
    "## Nonlinearity in regression"
   ],
   "metadata": {}
  },
  {
   "outputs": [],
   "cell_type": "code",
   "source": [
    "seed!(0)\n",
    "N = 40\n",
    "f = (x) -> 10. / (x + 1)\n",
    "xt = 10 * rand(N)\n",
    "yt = f.(xt) + 0.4 * randn(N)\n",
    "x = range(0, 10, 101)\n",
    "y = f.(x)\n",
    "scatter(xt, yt, color=:blue, label=\"training data for regression\")\n",
    "plot!(xlabel=L\"x\", ylabel=L\"y\")\n",
    "plot!(xlim=(0,10), ylim=(0,8))\n",
    "plot!(xtick=0:5:10, ytick=0:4:8)\n",
    "\n",
    "Afun = (tt,deg) -> [t.^i for t in tt, i in 0:deg] # matrix of monomials\n",
    "A3 = Afun(xt,3)\n",
    "coef3 = A3 \\ yt\n",
    "y3 = Afun(x,3) * coef3;\n",
    "\n",
    "A1 = Afun(xt,1)\n",
    "coef1 = A1 \\ yt\n",
    "y1 = Afun(x,1) * coef1;\n",
    "\n",
    "plot!(x, y3, line=:magenta,\n",
    "    label = L\"\\mathrm{cubic:\\ } y = \\alpha_3 x^3 + \\alpha_2 x^2 + \\alpha_1 x + \\alpha_0\")\n",
    "plot!(x, y1, line=(:dash,:red),\n",
    "    label = L\"\\mathrm{linear\\ (affine):\\ } y = \\alpha_1 x + \\alpha_0\")"
   ],
   "metadata": {},
   "execution_count": null
  },
  {
   "outputs": [],
   "cell_type": "code",
   "source": [
    "prompt()"
   ],
   "metadata": {},
   "execution_count": null
  },
  {
   "cell_type": "markdown",
   "source": [
    "## Linear discriminant analysis (LDA)\n",
    "[LDA](https://en.wikipedia.org/wiki/Linear_discriminant_analysis)"
   ],
   "metadata": {}
  },
  {
   "outputs": [],
   "cell_type": "code",
   "source": [
    "seed!(0)\n",
    "n1 = 70; n2 = n1\n",
    "rot = phi -> [cos(phi) sin(-phi); sin(phi) cos(phi)]\n",
    "mu1 = [7, 10]\n",
    "mu2 = [9, 4]\n",
    "S1 = rot(π/9) * [3 0; 0 1]\n",
    "S2 = S1 # for LDA\n",
    "data1 = S1 * randn(2,n1) .+ mu1\n",
    "data2 = S2 * randn(2,n2) .+ mu2\n",
    "plot(xlabel=L\"x_1\", ylabel=L\"x_2\")\n",
    "scatter!(data1[1,:], data1[2,:], color=:blue, label=\"class1\")\n",
    "scatter!(data2[1,:], data2[2,:], color=:red, label=\"class2\")\n",
    "plot!(xlim=(0,16), ylim=(0,16))\n",
    "plot!(aspect_ratio=1)\n",
    "plot!(xtick=0:4:16, ytick=0:4:16)\n",
    "\n",
    "ϕ = range(0,2π,101)\n",
    "for r in [1.5 2.5]\n",
    "    local x = r * cos.(ϕ)\n",
    "    local y = r * sin.(ϕ)\n",
    "    c1 = S1 * [x'; y'] .+ mu1\n",
    "    c2 = S2 * [x'; y'] .+ mu2\n",
    "    plot!(c1[1,:], c1[2,:], color=:blue)\n",
    "    plot!(c2[1,:], c2[2,:], color=:red)\n",
    "end\n",
    "x = range(-1,17,11)\n",
    "w = (S1 * S1') \\ (mu2 - mu1) # LDA\n",
    "c = (norm(S1 \\ mu2)^2 - norm(S1 \\ mu1)^2)/2\n",
    "y = (c .- w[1] * x) / (w[2])\n",
    "plot!(x, y, color=:magenta, width=2, legend=:topleft)"
   ],
   "metadata": {},
   "execution_count": null
  },
  {
   "outputs": [],
   "cell_type": "code",
   "source": [
    "prompt()"
   ],
   "metadata": {},
   "execution_count": null
  },
  {
   "cell_type": "markdown",
   "source": [
    "### Model-order selection"
   ],
   "metadata": {}
  },
  {
   "cell_type": "markdown",
   "source": [
    "Sinusoidal regression training data"
   ],
   "metadata": {}
  },
  {
   "outputs": [],
   "cell_type": "code",
   "source": [
    "seed!(0)\n",
    "Ntrain = 40\n",
    "Ntest = 30\n",
    "f = (x) -> 10. / (x + 1)\n",
    "xtrain = 10 * rand(Ntrain)\n",
    "ytrain = f.(xtrain) + 0.4 * randn(Ntrain)\n",
    "xtest = 10 * rand(Ntest)\n",
    "ytest = f.(xtest) + 0.4 * randn(Ntest)\n",
    "\n",
    "x = range(0,10,201)\n",
    "y = f.(x)\n",
    "\n",
    "plot(xlabel=L\"x\", ylabel=L\"y\")\n",
    "scatter!(xtrain, ytrain, color=:blue, label=\"training data\")\n",
    "scatter!(xtest, ytest, color=:red, label=\"test data\")\n",
    "plot!(xlim=(0,10), ylim=(0,8))\n",
    "plot!(xtick=0:5:10, ytick=0:4:8)"
   ],
   "metadata": {},
   "execution_count": null
  },
  {
   "outputs": [],
   "cell_type": "code",
   "source": [
    "prompt()"
   ],
   "metadata": {},
   "execution_count": null
  },
  {
   "cell_type": "markdown",
   "source": [
    "Show overfit"
   ],
   "metadata": {}
  },
  {
   "outputs": [],
   "cell_type": "code",
   "source": [
    "scatter(xtrain, ytrain, color=:blue, label=\"training data\")\n",
    "plot!(xlim=(0,10), ylim=(0,8))\n",
    "plot!(xtick=0:5:10, ytick=0:4:8)\n",
    "\n",
    "Afun = (tt,deg) -> [t.^i for t in tt, i in 0:deg] # matrix of monomials\n",
    "Afun = (tt,deg) -> [cos(2π*t*i/20) for t in tt, i in 0:deg] # matrix of sinusoids\n",
    "dlist = [2 9 20]\n",
    "clist = (:magenta, :red, :orange)\n",
    "for ii in 1:length(dlist)\n",
    "    local deg = dlist[ii]\n",
    "    local A = Afun(xtrain,deg)\n",
    "    local coef = A \\ ytrain\n",
    "    local y = Afun(x,deg) * coef\n",
    "    plot!(x, y, line=clist[ii], width=2, label=\"$deg harmonics\")\n",
    "end\n",
    "plot!(xlabel=L\"x\", ylabel=L\"y\")"
   ],
   "metadata": {},
   "execution_count": null
  },
  {
   "outputs": [],
   "cell_type": "code",
   "source": [
    "prompt()"
   ],
   "metadata": {},
   "execution_count": null
  },
  {
   "cell_type": "markdown",
   "source": [
    "Fit improves with more harmonics, of course"
   ],
   "metadata": {}
  },
  {
   "outputs": [],
   "cell_type": "code",
   "source": [
    "dlist = 0:30\n",
    "etrain = zeros(length(dlist))\n",
    "etest = zeros(length(dlist))\n",
    "errs = zeros(length(dlist))\n",
    "for ii in 1:length(dlist)\n",
    "    deg = dlist[ii]\n",
    "    Atrain = Afun(xtrain, deg)\n",
    "    Atest = Afun(xtest, deg)\n",
    "    # @show cond(A'*A) # sinusoids is more stable than polynomials\n",
    "    local coef = Atrain \\ ytrain\n",
    "    yh = Atrain * coef\n",
    "    etrain[ii] = norm(yh - ytrain)\n",
    "    etest[ii] = norm(Atest * coef - ytest)\n",
    "    errs[ii] = norm(yh - f.(xt))\n",
    "end\n",
    "scatter(dlist, etrain, color=:blue, label=\"fit to training data\")\n",
    "plot!(xlabel = \"model order: # of sinusoids\")\n",
    "plot!(ylabel = L\"\\mathrm{fit:\\ } ‖ \\hat{y} - y ‖_2\")\n",
    "plot!(ylim=[0,13], ytick=[0,13])\n",
    "scatter!(dlist, etest, color=:red, label=\"fit to test data\")"
   ],
   "metadata": {},
   "execution_count": null
  },
  {
   "outputs": [],
   "cell_type": "code",
   "source": [
    "prompt()"
   ],
   "metadata": {},
   "execution_count": null
  },
  {
   "cell_type": "markdown",
   "source": [
    "## Cross-validation"
   ],
   "metadata": {}
  },
  {
   "outputs": [],
   "cell_type": "code",
   "source": [
    "Nlearn = Int(Ntrain / 2)\n",
    "Nvalid = Ntrain - Nlearn\n",
    "xlearn = xtrain[1:Nlearn]\n",
    "ylearn = ytrain[1:Nlearn]\n",
    "xvalid = xtrain[(Nlearn+1):Ntrain]\n",
    "yvalid = ytrain[(Nlearn+1):Ntrain]\n",
    "\n",
    "plot(xlabel=L\"x\", ylabel=L\"y\")\n",
    "scatter!(xlearn, ylearn, color=:blue, label=\"training data (fitting)\")\n",
    "scatter!(xvalid, yvalid, color=:cyan, label=\"validation data (model selection)\")\n",
    "plot!(xlim=(0,10), ylim=(0,8))\n",
    "plot!(xtick=0:5:10, ytick=0:4:8)"
   ],
   "metadata": {},
   "execution_count": null
  },
  {
   "outputs": [],
   "cell_type": "code",
   "source": [
    "prompt()"
   ],
   "metadata": {},
   "execution_count": null
  },
  {
   "cell_type": "markdown",
   "source": [
    "fit improves with more harmonics, of course"
   ],
   "metadata": {}
  },
  {
   "outputs": [],
   "cell_type": "code",
   "source": [
    "dlist = 0:20\n",
    "elearn = zeros(length(dlist))\n",
    "evalid = zeros(length(dlist))\n",
    "etest = zeros(length(dlist))\n",
    "errs = zeros(length(dlist))\n",
    "for ii in 1:length(dlist)\n",
    "    deg = dlist[ii]\n",
    "    Alearn = Afun(xlearn, deg)\n",
    "    Avalid = Afun(xvalid, deg)\n",
    "    Atest = Afun(xtest, deg)\n",
    "    # @show cond(A'*A) # sinusoids is more stable than polynomials\n",
    "    local coef = Alearn \\ ylearn\n",
    "    elearn[ii] = norm(Alearn * coef - ylearn)\n",
    "    evalid[ii] = norm(Avalid * coef - yvalid)\n",
    "    etest[ii] = norm(Atest * coef - ytest)\n",
    "    errs[ii] = norm([Alearn; Avalid]*coef - f.([xlearn; xvalid]))\n",
    "end\n",
    "scatter(dlist, elearn, color=:blue, label=\"fit to training data\")\n",
    "scatter!(dlist, evalid, color=:cyan, label=\"fit to validation data\")\n",
    "plot!(xlabel = \"model order: # of sinusoids\")\n",
    "plot!(ylabel = L\"fit: \\ ‖ \\hat{y} - y ‖_2\")\n",
    "plot!(ylim=[0,13], ytick=[0,13])\n",
    "dbest = findall(diff(evalid) .>= 0)[1] # find first increase in validation error\n",
    "plot!(xtick=[0, dlist[dbest], 20])\n",
    "scatter!(dlist, etest, color=:red, label=\"fit to test data\")"
   ],
   "metadata": {},
   "execution_count": null
  },
  {
   "outputs": [],
   "cell_type": "code",
   "source": [
    "prompt()"
   ],
   "metadata": {},
   "execution_count": null
  },
  {
   "cell_type": "markdown",
   "source": [
    "### Reproducibility"
   ],
   "metadata": {}
  },
  {
   "cell_type": "markdown",
   "source": [
    "This page was generated with the following version of Julia:"
   ],
   "metadata": {}
  },
  {
   "outputs": [],
   "cell_type": "code",
   "source": [
    "io = IOBuffer(); versioninfo(io); split(String(take!(io)), '\\n')"
   ],
   "metadata": {},
   "execution_count": null
  },
  {
   "cell_type": "markdown",
   "source": [
    "And with the following package versions"
   ],
   "metadata": {}
  },
  {
   "outputs": [],
   "cell_type": "code",
   "source": [
    "import Pkg; Pkg.status()"
   ],
   "metadata": {},
   "execution_count": null
  },
  {
   "cell_type": "markdown",
   "source": [
    "---\n",
    "\n",
    "*This notebook was generated using [Literate.jl](https://github.com/fredrikekre/Literate.jl).*"
   ],
   "metadata": {}
  }
 ],
 "nbformat_minor": 3,
 "metadata": {
  "language_info": {
   "file_extension": ".jl",
   "mimetype": "application/julia",
   "name": "julia",
   "version": "1.10.0"
  },
  "kernelspec": {
   "name": "julia-1.10",
   "display_name": "Julia 1.10.0",
   "language": "julia"
  }
 },
 "nbformat": 4
}
