{
 "cells": [
  {
   "cell_type": "markdown",
   "source": [
    "# 03-flux-ring2\n",
    "\n",
    "## Basic Introduction to Machine Learning: 03-flux-ring2\n",
    "\n",
    "### Illustrate basic artificial NN training using Julia's Flux library\n",
    "\n",
    "- Jeff Fessler, University of Michigan\n",
    "- 2018-10-18 Julia 1.0.1 original\n",
    "- 2023-01-29 Julia 1.8.5 update\n",
    "\n",
    "This page was generated from a single Julia file:\n",
    "[03-flux-ring2.jl](https://github.com/JeffFessler/ismrm_ml2/blob/main/docs/lit/examples/03-flux-ring2.jl)."
   ],
   "metadata": {}
  },
  {
   "cell_type": "markdown",
   "source": [
    "### Setup"
   ],
   "metadata": {}
  },
  {
   "cell_type": "markdown",
   "source": [
    "Packages needed here."
   ],
   "metadata": {}
  },
  {
   "outputs": [],
   "cell_type": "code",
   "source": [
    "using LinearAlgebra: norm\n",
    "using Random: seed!\n",
    "using LaTeXStrings # pretty plot labels\n",
    "import Flux # Julia package for deep learning\n",
    "using Flux: Dense, Chain, relu, params, Adam, throttle, mse\n",
    "using Plots: Plot, plot, plot!, scatter!, default, gui\n",
    "using MIRTjim: jim, prompt\n",
    "using InteractiveUtils: versioninfo\n",
    "\n",
    "default(markersize=5, markerstrokecolor=:auto, label=\"\")\n",
    "default(legendfontsize=10, labelfontsize=12, tickfontsize=10)"
   ],
   "metadata": {},
   "execution_count": null
  },
  {
   "cell_type": "markdown",
   "source": [
    "The following line is helpful when running this file as a script;\n",
    "this way it will prompt user to hit a key after each figure is displayed."
   ],
   "metadata": {}
  },
  {
   "outputs": [],
   "cell_type": "code",
   "source": [
    "isinteractive() ? jim(:prompt, true) : prompt(:draw);"
   ],
   "metadata": {},
   "execution_count": null
  },
  {
   "cell_type": "markdown",
   "source": [
    "## Generate (synthetic) data"
   ],
   "metadata": {}
  },
  {
   "cell_type": "markdown",
   "source": [
    "Function to simulate data that cannot be linearly separated"
   ],
   "metadata": {}
  },
  {
   "outputs": [],
   "cell_type": "code",
   "source": [
    "function simdata(; n1 = 40, n2 = 120, σ1 = 0.8, σ2 = 2, r2 = 3)\n",
    "    data1 = σ1 * randn(2,n1)\n",
    "    rad2 = r2 .+ σ2*rand(1,n2)\n",
    "    ang2 = rand(1,n2) * 2π\n",
    "    data2 = [rad2 .* cos.(ang2); rad2 .* sin.(ang2)]\n",
    "    X = [data1 data2] # 2 × N = n1+n2\n",
    "    Y = [-ones(1,n1) ones(1,n2)] # 1 × N\n",
    "    @assert size(X,2) == size(Y,2)\n",
    "    return (X,Y)\n",
    "end;"
   ],
   "metadata": {},
   "execution_count": null
  },
  {
   "cell_type": "markdown",
   "source": [
    "Scatter plot routine"
   ],
   "metadata": {}
  },
  {
   "outputs": [],
   "cell_type": "code",
   "source": [
    "function datasplit(X,Y)\n",
    "    data1 = X[:,findall(==(-1), vec(Y))]\n",
    "    data2 = X[:,findall(==(1), vec(Y))]\n",
    "    return (data1, data2)\n",
    "end;\n",
    "\n",
    "function plot_data(X,Y; kwargs...)\n",
    "    data1, data2 = datasplit(X,Y)\n",
    "    plot(xlabel=L\"x_1\", ylabel=L\"x_2\"; kwargs...)\n",
    "    scatter!(data1[1,:], data1[2,:], color=:blue, label=\"class1\")\n",
    "    scatter!(data2[1,:], data2[2,:], color=:red, label=\"class2\")\n",
    "    plot!(xlim=[-1,1]*6, ylim=[-1,1]*6)\n",
    "    plot!(aspect_ratio=1, xtick=-6:6:6, ytick=-6:6:6)\n",
    "end;"
   ],
   "metadata": {},
   "execution_count": null
  },
  {
   "cell_type": "markdown",
   "source": [
    "Training data"
   ],
   "metadata": {}
  },
  {
   "outputs": [],
   "cell_type": "code",
   "source": [
    "seed!(0)\n",
    "(Xtrain, Ytrain) = simdata()\n",
    "plot_data(Xtrain,Ytrain)"
   ],
   "metadata": {},
   "execution_count": null
  },
  {
   "outputs": [],
   "cell_type": "code",
   "source": [
    "prompt()"
   ],
   "metadata": {},
   "execution_count": null
  },
  {
   "cell_type": "markdown",
   "source": [
    "Validation and testing data"
   ],
   "metadata": {}
  },
  {
   "outputs": [],
   "cell_type": "code",
   "source": [
    "(Xvalid, Yvalid) = simdata()\n",
    "(Xtest, Ytest) = simdata()\n",
    "\n",
    "p1 = plot_data(Xvalid, Yvalid; title=\"Validation\")\n",
    "p2 = plot_data(Xtest, Ytest; title=\"Test\")\n",
    "plot(p1, p2)"
   ],
   "metadata": {},
   "execution_count": null
  },
  {
   "outputs": [],
   "cell_type": "code",
   "source": [
    "prompt()"
   ],
   "metadata": {},
   "execution_count": null
  },
  {
   "cell_type": "markdown",
   "source": [
    "## Train simple MLP model\n",
    "\n",
    "A\n",
    "[multilayer perceptron model]\n",
    "(https://en.wikipedia.org/wiki/Multilayer_perceptron)\n",
    "(MLP)\n",
    "consists of multiple fully connected layers.\n",
    "\n",
    "Train a basic NN model with 1 hidden layer"
   ],
   "metadata": {}
  },
  {
   "outputs": [],
   "cell_type": "code",
   "source": [
    "if !@isdefined(state)\n",
    "    nhidden = 10 # neurons in hidden layer\n",
    "    model = Chain(Dense(2,nhidden,relu), Dense(nhidden,1))\n",
    "    loss3(model, x, y) = mse(model(x), y) # admittedly silly choice\n",
    "    iters = 10000\n",
    "    dataset = Base.Iterators.repeated((Xtrain, Ytrain), iters)\n",
    "    state = Flux.setup(Adam(), model)\n",
    "    Flux.train!(loss3, model, dataset, state)\n",
    "end;"
   ],
   "metadata": {},
   "execution_count": null
  },
  {
   "cell_type": "markdown",
   "source": [
    "Plot results after training"
   ],
   "metadata": {}
  },
  {
   "outputs": [],
   "cell_type": "code",
   "source": [
    "function display_decision_boundaries(\n",
    "    X, Y, model;\n",
    "    x1range = range(-1,1,101)*6, x2range = x1range, τ = 0.0,\n",
    "    kwargs...,\n",
    ")\n",
    "    data1,data2 = datasplit(X,Y)\n",
    "    D = [model([x1;x2])[1] for x1 in x1range, x2 in x2range]\n",
    "    jim(x1range, x2range, sign.(D.-τ); color=:grays, kwargs...)\n",
    "    scatter!(data1[1,:], data1[2,:], color = :blue, label = \"Class 1\")\n",
    "    scatter!(data2[1,:], data2[2,:], color = :red, label = \"Class 2\")\n",
    "    plot!(xlabel=L\"x_1\", ylabel=L\"x_2\")\n",
    "    plot!(xlim=[-1,1]*6, ylim=[-1,1]*6)\n",
    "    plot!(aspect_ratio=1, xtick=-6:6:6, ytick=-6:6:6)\n",
    "end;"
   ],
   "metadata": {},
   "execution_count": null
  },
  {
   "cell_type": "markdown",
   "source": [
    "Examine classification accuracy"
   ],
   "metadata": {}
  },
  {
   "outputs": [],
   "cell_type": "code",
   "source": [
    "classacc(model, x, y::Number) = sign(model(x)[1]) == y\n",
    "classacc(model, x, y::AbstractArray) = classacc(model, x, y[1])\n",
    "function classacc(X, Y)\n",
    "    tmp = zip(eachcol(X), eachcol(Y))\n",
    "    tmp = count(xy -> classacc(model, xy...), tmp)\n",
    "    tmp = tmp / size(Y,2) * 100\n",
    "    return round(tmp, digits=3)\n",
    "end\n",
    "\n",
    "lossXY = loss3(model, Xtrain, Ytrain)\n",
    "display_decision_boundaries(Xtrain, Ytrain, model)\n",
    "plot!(title = \"Train: MSE Loss = $(round(lossXY,digits=4)), \" *\n",
    "    \"Class=$(classacc(Xtrain, Ytrain)) %\")"
   ],
   "metadata": {},
   "execution_count": null
  },
  {
   "outputs": [],
   "cell_type": "code",
   "source": [
    "prompt()"
   ],
   "metadata": {},
   "execution_count": null
  },
  {
   "cell_type": "markdown",
   "source": [
    "## Train while validating\n",
    "\n",
    "Create a basic NN model with 1 hidden layer.\n",
    "This version evaluates performance every epoch\n",
    "for both the training data and validation data."
   ],
   "metadata": {}
  },
  {
   "outputs": [],
   "cell_type": "code",
   "source": [
    "nhidden = 10 # neurons in hidden layer\n",
    "layer2 = Dense(2, nhidden, relu)\n",
    "layer3 = Dense(nhidden, 1)\n",
    "model = Chain(layer2, layer3)\n",
    "loss3(model, x, y) = mse(model(x), y)\n",
    "\n",
    "nouter = 80 # of outer iterations, for showing loss\n",
    "losstrain = zeros(nouter+1)\n",
    "lossvalid = zeros(nouter+1)\n",
    "\n",
    "iters = 100\n",
    "losstrain[1] = loss3(model, Xtrain, Ytrain)\n",
    "lossvalid[1] = loss3(model, Xvalid, Yvalid)\n",
    "\n",
    "for io in 1:nouter\n",
    "    # @show io\n",
    "    idataset = Base.Iterators.repeated((Xtrain, Ytrain), iters)\n",
    "    istate = Flux.setup(Adam(), model)\n",
    "    Flux.train!(loss3, model, idataset, istate)\n",
    "    losstrain[io+1] = loss3(model, Xtrain, Ytrain)\n",
    "    lossvalid[io+1] = loss3(model, Xvalid, Yvalid)\n",
    "    if (io ≤ 6) && false # set to true to make images\n",
    "        display_decision_boundaries(Xtrain, Ytrain, model)\n",
    "        plot!(title=\"$(io*iters) epochs\")\n",
    "        # savefig(\"ml-flux-$(io*iters).pdf\")\n",
    "    end\n",
    "end\n",
    "\n",
    "loss_train = loss3(model, Xtrain, Ytrain)\n",
    "loss_valid = loss3(model, Xvalid, Yvalid)\n",
    "p1 = display_decision_boundaries(Xtrain, Ytrain, model;\n",
    " title=\"Train:\\nMSE Loss = $(round(loss_train,digits=4))\\n\" *\n",
    "    \"Class=$(classacc(Xtrain, Ytrain)) %\",\n",
    ")\n",
    "p2 = display_decision_boundaries(Xvalid, Yvalid, model;\n",
    " title=\"Valid:\\nMSE Loss = $(round(loss_valid,digits=4))\\n\" *\n",
    "    \"Class=$(classacc(Xvalid, Yvalid)) %\",\n",
    ")\n",
    "p12 = plot(p1, p2)"
   ],
   "metadata": {},
   "execution_count": null
  },
  {
   "outputs": [],
   "cell_type": "code",
   "source": [
    "prompt()"
   ],
   "metadata": {},
   "execution_count": null
  },
  {
   "cell_type": "markdown",
   "source": [
    "Show MSE loss vs epoch"
   ],
   "metadata": {}
  },
  {
   "outputs": [],
   "cell_type": "code",
   "source": [
    "ivalid = findfirst(>(0), diff(lossvalid))\n",
    "plot(xlabel=\"epoch/$(iters)\", ylabel=\"RMSE loss\", ylim=[0,1.05*maximum(losstrain)])\n",
    "plot!(0:nouter, sqrt.(losstrain), label=\"training loss\", marker=:o, color=:green)\n",
    "plot!(0:nouter, sqrt.(lossvalid), label=\"validation loss\", marker=:+, color=:violet)\n",
    "plot!(xticks = [0, ivalid, nouter])"
   ],
   "metadata": {},
   "execution_count": null
  },
  {
   "outputs": [],
   "cell_type": "code",
   "source": [
    "prompt()"
   ],
   "metadata": {},
   "execution_count": null
  },
  {
   "cell_type": "markdown",
   "source": [
    "Show response of (trained) first hidden layer"
   ],
   "metadata": {}
  },
  {
   "outputs": [],
   "cell_type": "code",
   "source": [
    "x1range = range(-1,1,31) * 6\n",
    "x2range = range(-1,1,33) * 6\n",
    "layer2data = [layer2([x1;x2])[n] for x1 = x1range, x2 = x2range, n in 1:nhidden]\n",
    "\n",
    "pl = Array{Plot}(undef, nhidden)\n",
    "for n in 1:nhidden\n",
    "    ptmp = jim(x1range, x2range, layer2data[:,:,n], color=:cividis,\n",
    "        xtick=-6:6:6, ytick=-6:6:6,\n",
    "    )\n",
    "    if n == 7\n",
    "        plot!(ptmp, xlabel=L\"x_1\", ylabel=L\"x_2\")\n",
    "    end\n",
    "    pl[n] = ptmp\n",
    "end\n",
    "plot(pl[1:9]...)"
   ],
   "metadata": {},
   "execution_count": null
  },
  {
   "outputs": [],
   "cell_type": "code",
   "source": [
    "prompt()"
   ],
   "metadata": {},
   "execution_count": null
  },
  {
   "cell_type": "markdown",
   "source": [
    "### Reproducibility"
   ],
   "metadata": {}
  },
  {
   "cell_type": "markdown",
   "source": [
    "This page was generated with the following version of Julia:"
   ],
   "metadata": {}
  },
  {
   "outputs": [],
   "cell_type": "code",
   "source": [
    "io = IOBuffer(); versioninfo(io); split(String(take!(io)), '\\n')"
   ],
   "metadata": {},
   "execution_count": null
  },
  {
   "cell_type": "markdown",
   "source": [
    "And with the following package versions"
   ],
   "metadata": {}
  },
  {
   "outputs": [],
   "cell_type": "code",
   "source": [
    "import Pkg; Pkg.status()"
   ],
   "metadata": {},
   "execution_count": null
  },
  {
   "cell_type": "markdown",
   "source": [
    "---\n",
    "\n",
    "*This notebook was generated using [Literate.jl](https://github.com/fredrikekre/Literate.jl).*"
   ],
   "metadata": {}
  }
 ],
 "nbformat_minor": 3,
 "metadata": {
  "language_info": {
   "file_extension": ".jl",
   "mimetype": "application/julia",
   "name": "julia",
   "version": "1.10.0"
  },
  "kernelspec": {
   "name": "julia-1.10",
   "display_name": "Julia 1.10.0",
   "language": "julia"
  }
 },
 "nbformat": 4
}
